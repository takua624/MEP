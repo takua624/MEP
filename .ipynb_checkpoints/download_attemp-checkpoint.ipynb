{
 "cells": [
  {
   "cell_type": "code",
   "execution_count": 4,
   "id": "62b3bf9a-b85b-49e7-a205-932e36311b06",
   "metadata": {},
   "outputs": [],
   "source": [
    "from selenium import webdriver\n",
    "from selenium.webdriver.common.by import By\n",
    "from selenium.webdriver.chrome.options import Options\n",
    "from selenium.webdriver.support.ui import WebDriverWait\n",
    "from selenium.webdriver.support import expected_conditions as EC\n",
    "from selenium.webdriver.support.ui import Select\n",
    "from selenium.common.exceptions import TimeoutException, NoSuchElementException\n",
    "from selenium.webdriver.common.action_chains import ActionChains\n",
    "import requests\n",
    "import time"
   ]
  },
  {
   "cell_type": "code",
   "execution_count": 7,
   "id": "b72c54a8-44fb-49fe-abb4-04a85bae94e4",
   "metadata": {},
   "outputs": [],
   "source": [
    "options = Options()\n",
    "options.add_argument('--headless=new')  # Run without GUI\n",
    "options.add_argument(\"user-agent=Mozilla/5.0 (Windows NT 10.0; Win64; x64) AppleWebKit/537.36 (KHTML, like Gecko) Chrome/124.0.0.0 Safari/537.36\")\n",
    "options.add_argument(\"--disable-blink-features=AutomationControlled\")\n",
    "options.add_argument(\"--window-size=1920,1080\")\n",
    "\n",
    "DL_dir = \"C:/Users/PC/Dropbox/various_projects/retraction_watch/MEP_DataAnalyst/shared_code\"\n",
    "\n",
    "options.add_experimental_option(\"prefs\", {\n",
    "    \"download.default_directory\": DL_dir,\n",
    "    \"download.prompt_for_download\": False,\n",
    "    \"directory_upgrade\": True\n",
    "       })\n",
    "\n",
    "DL_driver = webdriver.Chrome(options=options)\n",
    "DL_driver.execute_cdp_cmd(\n",
    "\"Page.setDownloadBehavior\",\n",
    "{\n",
    "    \"behavior\": \"allow\",\n",
    "    \"downloadPath\": DL_dir\n",
    "}\n",
    ")\n",
    "DL_URL = \"https://www.cochranelibrary.com/cdsr/doi/10.1002/14651858.CD014624.pub2/media/CDSR/CD014624/supinfo/CD014624-dataPackage.zip\"\n",
    "DL_driver.get(DL_URL)\n",
    "DL_driver.save_screenshot(\"debug_DL_html.png\")\n",
    "# wait_for_download(DL_dir)\n",
    "time.sleep(5)\n",
    "DL_driver.quit()"
   ]
  },
  {
   "cell_type": "code",
   "execution_count": null,
   "id": "53e58986-4fc6-4544-9cdd-4ce3589d72ee",
   "metadata": {},
   "outputs": [],
   "source": []
  }
 ],
 "metadata": {
  "kernelspec": {
   "display_name": "Python 3 (ipykernel)",
   "language": "python",
   "name": "python3"
  },
  "language_info": {
   "codemirror_mode": {
    "name": "ipython",
    "version": 3
   },
   "file_extension": ".py",
   "mimetype": "text/x-python",
   "name": "python",
   "nbconvert_exporter": "python",
   "pygments_lexer": "ipython3",
   "version": "3.12.7"
  }
 },
 "nbformat": 4,
 "nbformat_minor": 5
}
